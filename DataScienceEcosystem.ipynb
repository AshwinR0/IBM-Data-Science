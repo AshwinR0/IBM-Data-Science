{
 "cells": [
  {
   "cell_type": "markdown",
   "id": "9a0be5e4-9166-4a71-b9b0-f3b269cc2a87",
   "metadata": {},
   "source": [
    "# Data Science Tools and Ecosystem"
   ]
  },
  {
   "cell_type": "markdown",
   "id": "ada9872a-697a-47da-8ebb-680d67730bd6",
   "metadata": {},
   "source": [
    "\n",
    "The data science ecosystem comprises essential tools and platforms for every stage of the data science process. Key components include programming languages like Python and R, alongside libraries such as NumPy and scikit-learn for analysis. Tools like Apache Spark handle big data processing, while TensorFlow and PyTorch dominate in machine learning. Visualization tools like Tableau aid in data exploration, and collaboration platforms like GitHub ensure project reproducibility and teamwork."
   ]
  },
  {
   "cell_type": "markdown",
   "id": "fdb88fed-5ecf-4eb5-afa7-812701e8a4dd",
   "metadata": {},
   "source": [
    "**Objectives**\n",
    "* List popular languages for Data Science\n",
    "* List popular libraries for Data Science\n",
    "* Examples of evaluating aritmetic expressions"
   ]
  },
  {
   "cell_type": "markdown",
   "id": "cb1e35dc-3d9a-4ac8-94cc-5b7dc82b5054",
   "metadata": {},
   "source": [
    "**Some of the popular languages that Data Scientists use are:**\n",
    "1. Python\n",
    "2. R\n",
    "3. SQL"
   ]
  },
  {
   "cell_type": "markdown",
   "id": "5e33356e-2769-4a7a-bcf6-d1b24cbd011c",
   "metadata": {},
   "source": [
    "**Some of the commonly used libraries used by Data Scientists include:**\n",
    "1. Numpy\n",
    "2. Pandas\n",
    "3. scikit-learn\n",
    "4. TensorFlow\n"
   ]
  },
  {
   "cell_type": "markdown",
   "id": "326d4c98-898b-4617-92ca-63c8667ca931",
   "metadata": {},
   "source": [
    "| Data Science Tools    |\n",
    "|:----------------------|\n",
    "| Jupyter Notebook      |\n",
    "| RStudio               |\n",
    "| Visual Studio Code    |"
   ]
  },
  {
   "cell_type": "markdown",
   "id": "726ef555-3974-48c4-b794-12aa9a3a2a6b",
   "metadata": {},
   "source": [
    "### Below are a few examples of evaluating arithmetic expressions in Python"
   ]
  },
  {
   "cell_type": "code",
   "execution_count": 2,
   "id": "7787bb53-667d-4e0a-85e6-863f278fc0dc",
   "metadata": {},
   "outputs": [
    {
     "data": {
      "text/plain": [
       "17"
      ]
     },
     "execution_count": 2,
     "metadata": {},
     "output_type": "execute_result"
    }
   ],
   "source": [
    "# This a simple arithmetic expression to mutiply then add integers.\n",
    "(3*4)+5"
   ]
  },
  {
   "cell_type": "code",
   "execution_count": 3,
   "id": "275432e0-7780-42bf-866d-441e849aed48",
   "metadata": {},
   "outputs": [
    {
     "data": {
      "text/plain": [
       "3.3333333333333335"
      ]
     },
     "execution_count": 3,
     "metadata": {},
     "output_type": "execute_result"
    }
   ],
   "source": [
    "# This will convert 200 minutes to hours by diving by 60\n",
    "200/60"
   ]
  },
  {
   "cell_type": "markdown",
   "id": "b7a3bb45-e858-4df5-9a7b-09ed0d26fe00",
   "metadata": {},
   "source": [
    "## Author\n",
    "Ashwin R"
   ]
  },
  {
   "cell_type": "code",
   "execution_count": null,
   "id": "85411200-7082-4f26-a884-54dcc2425839",
   "metadata": {},
   "outputs": [],
   "source": []
  }
 ],
 "metadata": {
  "kernelspec": {
   "display_name": "Python 3 (ipykernel)",
   "language": "python",
   "name": "python3"
  },
  "language_info": {
   "codemirror_mode": {
    "name": "ipython",
    "version": 3
   },
   "file_extension": ".py",
   "mimetype": "text/x-python",
   "name": "python",
   "nbconvert_exporter": "python",
   "pygments_lexer": "ipython3",
   "version": "3.10.12"
  }
 },
 "nbformat": 4,
 "nbformat_minor": 5
}
